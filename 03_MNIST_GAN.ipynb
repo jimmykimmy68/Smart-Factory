{
 "cells": [
  {
   "cell_type": "markdown",
   "metadata": {},
   "source": [
    "ref: https://github.com/prcastro/pytorch-gan/blob/master/MNIST%20GAN.ipynb"
   ]
  },
  {
   "cell_type": "code",
   "execution_count": 9,
   "metadata": {
    "ExecuteTime": {
     "end_time": "2020-01-09T13:38:38.883712Z",
     "start_time": "2020-01-09T13:38:38.632435Z"
    }
   },
   "outputs": [],
   "source": [
    "import itertools\n",
    "import math\n",
    "import time\n",
    "\n",
    "import torch\n",
    "import torch.nn as nn\n",
    "import torch.nn.functional as F\n",
    "import torch.optim as optim\n",
    "from torchvision import datasets, transforms\n",
    "from torch.autograd import Variable\n",
    "\n",
    "import matplotlib.pyplot as plt\n",
    "from IPython import display\n",
    "\n",
    "%matplotlib inline"
   ]
  },
  {
   "cell_type": "code",
   "execution_count": 10,
   "metadata": {
    "ExecuteTime": {
     "end_time": "2020-01-09T13:38:40.631060Z",
     "start_time": "2020-01-09T13:38:40.628383Z"
    }
   },
   "outputs": [],
   "source": [
    "batch_size = 32"
   ]
  },
  {
   "cell_type": "code",
   "execution_count": 27,
   "metadata": {
    "ExecuteTime": {
     "end_time": "2020-01-09T14:13:29.647273Z",
     "start_time": "2020-01-09T14:13:15.212582Z"
    }
   },
   "outputs": [
    {
     "name": "stderr",
     "output_type": "stream",
     "text": [
      "\r",
      "0it [00:00, ?it/s]"
     ]
    },
    {
     "name": "stdout",
     "output_type": "stream",
     "text": [
      "Downloading http://yann.lecun.com/exdb/mnist/train-images-idx3-ubyte.gz to ./mnist_data/MNIST/raw/train-images-idx3-ubyte.gz\n"
     ]
    },
    {
     "name": "stderr",
     "output_type": "stream",
     "text": [
      " 99%|█████████▊| 9764864/9912422 [00:10<00:00, 2315227.72it/s]"
     ]
    },
    {
     "name": "stdout",
     "output_type": "stream",
     "text": [
      "Extracting ./mnist_data/MNIST/raw/train-images-idx3-ubyte.gz to ./mnist_data/MNIST/raw\n"
     ]
    },
    {
     "name": "stderr",
     "output_type": "stream",
     "text": [
      "\n",
      "0it [00:00, ?it/s]\u001b[A"
     ]
    },
    {
     "name": "stdout",
     "output_type": "stream",
     "text": [
      "Downloading http://yann.lecun.com/exdb/mnist/train-labels-idx1-ubyte.gz to ./mnist_data/MNIST/raw/train-labels-idx1-ubyte.gz\n"
     ]
    },
    {
     "name": "stderr",
     "output_type": "stream",
     "text": [
      "\n",
      "  0%|          | 0/28881 [00:00<?, ?it/s]\u001b[A\n",
      "32768it [00:00, 50814.11it/s]                           \u001b[A\n",
      "\n",
      "0it [00:00, ?it/s]\u001b[A"
     ]
    },
    {
     "name": "stdout",
     "output_type": "stream",
     "text": [
      "Extracting ./mnist_data/MNIST/raw/train-labels-idx1-ubyte.gz to ./mnist_data/MNIST/raw\n",
      "Downloading http://yann.lecun.com/exdb/mnist/t10k-images-idx3-ubyte.gz to ./mnist_data/MNIST/raw/t10k-images-idx3-ubyte.gz\n"
     ]
    },
    {
     "name": "stderr",
     "output_type": "stream",
     "text": [
      "\n",
      "  0%|          | 0/1648877 [00:00<?, ?it/s]\u001b[A\n",
      "  1%|          | 16384/1648877 [00:00<00:19, 82810.11it/s]\u001b[A\n",
      "  2%|▏         | 40960/1648877 [00:00<00:17, 91842.82it/s]\u001b[A\n",
      "  6%|▌         | 98304/1648877 [00:01<00:13, 115189.15it/s]\u001b[A\n",
      " 13%|█▎        | 212992/1648877 [00:01<00:09, 151336.68it/s]\u001b[A\n",
      " 26%|██▌       | 425984/1648877 [00:01<00:06, 203659.61it/s]\u001b[A\n",
      " 44%|████▎     | 720896/1648877 [00:01<00:03, 274451.84it/s]\u001b[A\n",
      " 63%|██████▎   | 1032192/1648877 [00:01<00:01, 364168.99it/s]\u001b[A\n",
      "1654784it [00:02, 771793.67it/s]                             \u001b[A\n",
      "\n",
      "0it [00:00, ?it/s]\u001b[A"
     ]
    },
    {
     "name": "stdout",
     "output_type": "stream",
     "text": [
      "Extracting ./mnist_data/MNIST/raw/t10k-images-idx3-ubyte.gz to ./mnist_data/MNIST/raw\n",
      "Downloading http://yann.lecun.com/exdb/mnist/t10k-labels-idx1-ubyte.gz to ./mnist_data/MNIST/raw/t10k-labels-idx1-ubyte.gz\n"
     ]
    },
    {
     "name": "stderr",
     "output_type": "stream",
     "text": [
      "\n",
      "8192it [00:00, 20056.70it/s]            \u001b[A"
     ]
    },
    {
     "name": "stdout",
     "output_type": "stream",
     "text": [
      "Extracting ./mnist_data/MNIST/raw/t10k-labels-idx1-ubyte.gz to ./mnist_data/MNIST/raw\n",
      "Processing...\n",
      "Done!\n"
     ]
    },
    {
     "name": "stderr",
     "output_type": "stream",
     "text": [
      "\n",
      "9920512it [00:30, 2315227.72it/s]                             "
     ]
    }
   ],
   "source": [
    "# download and transform train dataset\n",
    "train_loader = torch.utils.data.DataLoader(datasets.MNIST('./mnist_data', \n",
    "                                                          download=True, \n",
    "                                                          train=True,\n",
    "                                                          transform=transforms.Compose([\n",
    "                                                              transforms.ToTensor(), # first, convert image to PyTorch tensor\n",
    "                                                              transforms.Normalize((0.1307,), (0.3081,)) # normalize inputs\n",
    "                                                          ])), \n",
    "                                           batch_size=batch_size, \n",
    "                                           shuffle=True)"
   ]
  },
  {
   "cell_type": "code",
   "execution_count": 28,
   "metadata": {
    "ExecuteTime": {
     "end_time": "2020-01-09T14:14:15.628162Z",
     "start_time": "2020-01-09T14:14:15.619365Z"
    }
   },
   "outputs": [],
   "source": [
    "# download and transform test dataset\n",
    "test_loader = torch.utils.data.DataLoader(datasets.MNIST('./mnist_data', \n",
    "                                                          download=True, \n",
    "                                                          train=False,\n",
    "                                                          transform=transforms.Compose([\n",
    "                                                              transforms.ToTensor(), # first, convert image to PyTorch tensor\n",
    "                                                              transforms.Normalize((0.1307,), (0.3081,)) # normalize inputs\n",
    "                                                          ])), \n",
    "                                           batch_size=batch_size, \n",
    "                                           shuffle=True)"
   ]
  },
  {
   "cell_type": "code",
   "execution_count": 13,
   "metadata": {
    "ExecuteTime": {
     "end_time": "2020-01-09T13:38:54.750307Z",
     "start_time": "2020-01-09T13:38:54.726562Z"
    }
   },
   "outputs": [],
   "source": [
    "inputs, classes = next(iter(train_loader))"
   ]
  },
  {
   "cell_type": "code",
   "execution_count": 14,
   "metadata": {
    "ExecuteTime": {
     "end_time": "2020-01-09T13:38:55.075686Z",
     "start_time": "2020-01-09T13:38:55.070587Z"
    }
   },
   "outputs": [
    {
     "data": {
      "text/plain": [
       "torch.Size([32, 1, 28, 28])"
      ]
     },
     "execution_count": 14,
     "metadata": {},
     "output_type": "execute_result"
    }
   ],
   "source": [
    "inputs.size()"
   ]
  },
  {
   "cell_type": "code",
   "execution_count": 15,
   "metadata": {
    "ExecuteTime": {
     "end_time": "2020-01-09T13:38:55.600260Z",
     "start_time": "2020-01-09T13:38:55.596529Z"
    }
   },
   "outputs": [
    {
     "data": {
      "text/plain": [
       "torch.Size([32])"
      ]
     },
     "execution_count": 15,
     "metadata": {},
     "output_type": "execute_result"
    }
   ],
   "source": [
    "classes.size()"
   ]
  },
  {
   "cell_type": "markdown",
   "metadata": {},
   "source": [
    "## GAN"
   ]
  },
  {
   "cell_type": "markdown",
   "metadata": {},
   "source": [
    "### Hyper-paramters"
   ]
  },
  {
   "cell_type": "code",
   "execution_count": 16,
   "metadata": {
    "ExecuteTime": {
     "end_time": "2020-01-09T13:38:57.543501Z",
     "start_time": "2020-01-09T13:38:57.540535Z"
    }
   },
   "outputs": [],
   "source": [
    "num_epochs = 100\n",
    "num_batches = len(train_loader)\n",
    "d_steps = 1\n",
    "g_steps = 1\n",
    "learning_rate = 2e-4"
   ]
  },
  {
   "cell_type": "code",
   "execution_count": 17,
   "metadata": {
    "ExecuteTime": {
     "end_time": "2020-01-09T13:38:57.959745Z",
     "start_time": "2020-01-09T13:38:57.954640Z"
    }
   },
   "outputs": [],
   "source": [
    "class Generator(nn.Module):\n",
    "    \n",
    "    def __init__(self):\n",
    "        super(Generator, self).__init__()\n",
    "        self.layer1 = nn.Linear(128, 256, bias=True)\n",
    "        self.layer2 = nn.Linear(256, 784, bias=True)\n",
    "        \n",
    "    def forward(self, z):\n",
    "        # z: noise\n",
    "        h1 = F.relu(self.layer1(z))\n",
    "        out = F.tanh(self.layer2(h1))\n",
    "        return out"
   ]
  },
  {
   "cell_type": "code",
   "execution_count": 18,
   "metadata": {
    "ExecuteTime": {
     "end_time": "2020-01-09T13:38:58.492871Z",
     "start_time": "2020-01-09T13:38:58.487426Z"
    }
   },
   "outputs": [],
   "source": [
    "class Discriminator(nn.Module):\n",
    "    \n",
    "    def __init__(self):\n",
    "        super(Discriminator, self).__init__()\n",
    "        self.layer1 = nn.Linear(784, 256, bias=True)\n",
    "        self.layer2 = nn.Linear(256, 1, bias=True)\n",
    "        \n",
    "    def forward(self, x):\n",
    "        # x: generated or real image (10, 1, 28, 28)\n",
    "        x = x.view(x.size(0), -1) # (10, 784)\n",
    "        h1 = F.relu(self.layer1(x))\n",
    "        y = F.sigmoid(self.layer2(h1)) # (10, 1) -> probability\n",
    "        return y.view(y.size(0))"
   ]
  },
  {
   "cell_type": "code",
   "execution_count": 19,
   "metadata": {
    "ExecuteTime": {
     "end_time": "2020-01-09T13:38:59.400977Z",
     "start_time": "2020-01-09T13:38:59.394520Z"
    }
   },
   "outputs": [],
   "source": [
    "G = Generator()\n",
    "D = Discriminator()"
   ]
  },
  {
   "cell_type": "code",
   "execution_count": 20,
   "metadata": {
    "ExecuteTime": {
     "end_time": "2020-01-09T13:38:59.879244Z",
     "start_time": "2020-01-09T13:38:59.876663Z"
    }
   },
   "outputs": [],
   "source": [
    "# Binary Cross Entropy Loss(h(x), y), Sigmoid Cross Entropy Loss 함수라고도 불림. -ylogh(x)-(1-y)log(1-h(x))\n",
    "criterion = nn.BCELoss() "
   ]
  },
  {
   "cell_type": "code",
   "execution_count": 21,
   "metadata": {
    "ExecuteTime": {
     "end_time": "2020-01-09T13:39:00.151796Z",
     "start_time": "2020-01-09T13:39:00.148581Z"
    }
   },
   "outputs": [],
   "source": [
    "d_optimizer = optim.Adam(D.parameters(), lr=learning_rate)\n",
    "g_optimizer = optim.Adam(G.parameters(), lr=learning_rate)"
   ]
  },
  {
   "cell_type": "code",
   "execution_count": 22,
   "metadata": {
    "ExecuteTime": {
     "end_time": "2020-01-09T13:39:00.847777Z",
     "start_time": "2020-01-09T13:39:00.408307Z"
    }
   },
   "outputs": [],
   "source": [
    "use_cuda = torch.cuda.is_available()"
   ]
  },
  {
   "cell_type": "code",
   "execution_count": 23,
   "metadata": {
    "ExecuteTime": {
     "end_time": "2020-01-09T13:39:08.523534Z",
     "start_time": "2020-01-09T13:39:00.849677Z"
    }
   },
   "outputs": [],
   "source": [
    "if use_cuda:\n",
    "    G = G.cuda()\n",
    "    D = D.cuda()\n",
    "    criterion = criterion.cuda()"
   ]
  },
  {
   "cell_type": "code",
   "execution_count": 26,
   "metadata": {
    "ExecuteTime": {
     "end_time": "2020-01-09T14:12:18.156131Z",
     "start_time": "2020-01-09T13:40:23.129628Z"
    }
   },
   "outputs": [
    {
     "data": {
      "image/png": "[encoded data removed]",
      "text/plain": [
       "<Figure size 432x432 with 10 Axes>"
      ]
     },
     "metadata": {},
     "output_type": "display_data"
    },
    {
     "name": "stdout",
     "output_type": "stream",
     "text": [
      "Epoch: 100/100, Step: 1500/1875, d_loss: 0.0002, g_loss: 10.9128\n"
     ]
    },
    {
     "data": {
      "image/png": "[encoded data removed]",
      "text/plain": [
       "<Figure size 432x432 with 10 Axes>"
      ]
     },
     "metadata": {
      "needs_background": "light"
     },
     "output_type": "display_data"
    }
   ],
   "source": [
    "test_noise = torch.randn(batch_size, 128).cuda()\n",
    "\n",
    "# create figure for plotting\n",
    "row_num = 2\n",
    "col_num = 5\n",
    "fig, ax = plt.subplots(row_num, col_num, figsize=(6,6))\n",
    "for i, j in itertools.product(range(row_num), range(col_num)):\n",
    "    ax[i,j].get_xaxis().set_visible(False)\n",
    "    ax[i,j].get_yaxis().set_visible(False)\n",
    "\n",
    "\n",
    "for epoch in range(num_epochs):\n",
    "    for t, data in enumerate(train_loader, 0):\n",
    "        x, _ = data # 10, 1, 28, 28 // 10\n",
    "        x = x.cuda()\n",
    "        x_labels = torch.ones(batch_size).cuda()\n",
    "        z, z_labels = torch.randn(batch_size, 128).cuda(), torch.zeros(batch_size).cuda()\n",
    "        \n",
    "        # train Dis\n",
    "        for d_idx in range(d_steps):\n",
    "            d_optimizer.zero_grad()\n",
    "\n",
    "            # train on real\n",
    "            d_real_loss = criterion(D(x), x_labels)\n",
    "\n",
    "            # train on fake\n",
    "            d_fake_loss = criterion(D(G(z)), z_labels)\n",
    "            \n",
    "            d_loss = d_real_loss + d_fake_loss # criterion(D(x), 1) + criterion(D(G(z)), 0)\n",
    "            d_loss.backward()\n",
    "            d_optimizer.step()\n",
    "\n",
    "        # train Gen\n",
    "        for g_idx in range(g_steps):\n",
    "            g_optimizer.zero_grad()\n",
    "            z, z_labels = torch.randn(batch_size, 128).cuda(), torch.ones(batch_size).cuda()\n",
    "            g_loss = criterion(D(G(z)), z_labels) # criterion(D(G(z)), 1)\n",
    "            g_loss.backward()\n",
    "            g_optimizer.step()\n",
    "        \n",
    "        # print status\n",
    "        if (t+1) % 500 == 0:\n",
    "            test_images = G(test_noise)\n",
    "            \n",
    "            for k in range(row_num*col_num):\n",
    "                i = k//5\n",
    "                j = k%5\n",
    "                ax[i,j].cla() # clear the current axis\n",
    "                ax[i,j].imshow(test_images[k,:].data.cpu().numpy().reshape(28,28), cmap='Greys')\n",
    "            \n",
    "            display.clear_output(wait=True)\n",
    "            display.display(plt.gcf()) # get a reference to a current figure\n",
    "            \n",
    "            print(\"Epoch: {}/{}, Step: {}/{}, d_loss: {:.4f}, g_loss: {:.4f}\"\n",
    "                  .format(epoch + 1, num_epochs, t+1, num_batches, d_loss.data.item(), g_loss.data.item()))"
   ]
  },
  {
   "cell_type": "code",
   "execution_count": null,
   "metadata": {},
   "outputs": [],
   "source": []
  }
 ],
 "metadata": {
  "kernelspec": {
   "display_name": "Python 3",
   "language": "python",
   "name": "python3"
  },
  "language_info": {
   "codemirror_mode": {
    "name": "ipython",
    "version": 3
   },
   "file_extension": ".py",
   "mimetype": "text/x-python",
   "name": "python",
   "nbconvert_exporter": "python",
   "pygments_lexer": "ipython3",
   "version": "3.6.9"
  },
  "toc": {
   "base_numbering": 1,
   "nav_menu": {},
   "number_sections": true,
   "sideBar": true,
   "skip_h1_title": false,
   "title_cell": "Table of Contents",
   "title_sidebar": "Contents",
   "toc_cell": false,
   "toc_position": {},
   "toc_section_display": true,
   "toc_window_display": false
  }
 },
 "nbformat": 4,
 "nbformat_minor": 2
}
