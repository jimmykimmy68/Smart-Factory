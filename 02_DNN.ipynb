{
 "cells": [
  {
   "cell_type": "code",
   "execution_count": 1,
   "metadata": {
    "ExecuteTime": {
     "end_time": "2020-03-15T08:32:17.030152Z",
     "start_time": "2020-03-15T08:32:16.041272Z"
    }
   },
   "outputs": [],
   "source": [
    "import torch\n",
    "import torch.nn as nn\n",
    "import torch.nn.functional as F\n",
    "import torch.optim as optim\n",
    "import torch.utils.data as data_utils \n",
    "\n",
    "\n",
    "from torchvision import transforms\n",
    "\n",
    "import numpy as np\n",
    "import pandas as pd\n",
    "from matplotlib import pyplot as plt\n",
    "%matplotlib inline"
   ]
  },
  {
   "cell_type": "markdown",
   "metadata": {},
   "source": [
    "## custom Batch Generator"
   ]
  },
  {
   "cell_type": "markdown",
   "metadata": {},
   "source": [
    "### 1. load trn, val data"
   ]
  },
  {
   "cell_type": "code",
   "execution_count": 2,
   "metadata": {
    "ExecuteTime": {
     "end_time": "2020-03-15T08:32:18.754118Z",
     "start_time": "2020-03-15T08:32:18.740945Z"
    }
   },
   "outputs": [],
   "source": [
    "trn = pd.read_csv(\"./dnn_data/trn.tsv\", sep='\\t')\n",
    "val = pd.read_csv(\"./dnn_data/val.tsv\", sep='\\t')"
   ]
  },
  {
   "cell_type": "code",
   "execution_count": 3,
   "metadata": {
    "ExecuteTime": {
     "end_time": "2020-03-15T08:32:19.572010Z",
     "start_time": "2020-03-15T08:32:19.554613Z"
    }
   },
   "outputs": [
    {
     "data": {
      "text/html": [
       "<div>\n",
       "<style scoped>\n",
       "    .dataframe tbody tr th:only-of-type {\n",
       "        vertical-align: middle;\n",
       "    }\n",
       "\n",
       "    .dataframe tbody tr th {\n",
       "        vertical-align: top;\n",
       "    }\n",
       "\n",
       "    .dataframe thead th {\n",
       "        text-align: right;\n",
       "    }\n",
       "</style>\n",
       "<table border=\"1\" class=\"dataframe\">\n",
       "  <thead>\n",
       "    <tr style=\"text-align: right;\">\n",
       "      <th></th>\n",
       "      <th>feature_1</th>\n",
       "      <th>feature_2</th>\n",
       "      <th>feature_3</th>\n",
       "      <th>feature_4</th>\n",
       "      <th>feature_5</th>\n",
       "      <th>feature_6</th>\n",
       "      <th>feature_7</th>\n",
       "      <th>feature_8</th>\n",
       "      <th>y</th>\n",
       "    </tr>\n",
       "  </thead>\n",
       "  <tbody>\n",
       "    <tr>\n",
       "      <th>0</th>\n",
       "      <td>0.770747</td>\n",
       "      <td>1.777481</td>\n",
       "      <td>1.119744</td>\n",
       "      <td>10</td>\n",
       "      <td>0.904246</td>\n",
       "      <td>0.750227</td>\n",
       "      <td>6</td>\n",
       "      <td>7</td>\n",
       "      <td>74.559605</td>\n",
       "    </tr>\n",
       "    <tr>\n",
       "      <th>1</th>\n",
       "      <td>0.517279</td>\n",
       "      <td>2.102868</td>\n",
       "      <td>1.433156</td>\n",
       "      <td>10</td>\n",
       "      <td>0.835582</td>\n",
       "      <td>0.982529</td>\n",
       "      <td>4</td>\n",
       "      <td>1</td>\n",
       "      <td>68.654484</td>\n",
       "    </tr>\n",
       "    <tr>\n",
       "      <th>2</th>\n",
       "      <td>0.528888</td>\n",
       "      <td>2.287112</td>\n",
       "      <td>1.181075</td>\n",
       "      <td>1</td>\n",
       "      <td>0.944968</td>\n",
       "      <td>0.961392</td>\n",
       "      <td>7</td>\n",
       "      <td>2</td>\n",
       "      <td>81.007162</td>\n",
       "    </tr>\n",
       "    <tr>\n",
       "      <th>3</th>\n",
       "      <td>0.398252</td>\n",
       "      <td>1.285644</td>\n",
       "      <td>0.968844</td>\n",
       "      <td>1</td>\n",
       "      <td>0.946535</td>\n",
       "      <td>0.748881</td>\n",
       "      <td>7</td>\n",
       "      <td>7</td>\n",
       "      <td>82.157630</td>\n",
       "    </tr>\n",
       "    <tr>\n",
       "      <th>4</th>\n",
       "      <td>0.483614</td>\n",
       "      <td>2.503184</td>\n",
       "      <td>1.563709</td>\n",
       "      <td>10</td>\n",
       "      <td>0.936454</td>\n",
       "      <td>0.945359</td>\n",
       "      <td>7</td>\n",
       "      <td>10</td>\n",
       "      <td>86.360000</td>\n",
       "    </tr>\n",
       "  </tbody>\n",
       "</table>\n",
       "</div>"
      ],
      "text/plain": [
       "   feature_1  feature_2  feature_3  feature_4  feature_5  feature_6  \\\n",
       "0   0.770747   1.777481   1.119744         10   0.904246   0.750227   \n",
       "1   0.517279   2.102868   1.433156         10   0.835582   0.982529   \n",
       "2   0.528888   2.287112   1.181075          1   0.944968   0.961392   \n",
       "3   0.398252   1.285644   0.968844          1   0.946535   0.748881   \n",
       "4   0.483614   2.503184   1.563709         10   0.936454   0.945359   \n",
       "\n",
       "   feature_7  feature_8          y  \n",
       "0          6          7  74.559605  \n",
       "1          4          1  68.654484  \n",
       "2          7          2  81.007162  \n",
       "3          7          7  82.157630  \n",
       "4          7         10  86.360000  "
      ]
     },
     "execution_count": 3,
     "metadata": {},
     "output_type": "execute_result"
    }
   ],
   "source": [
    "trn.head()"
   ]
  },
  {
   "cell_type": "code",
   "execution_count": 4,
   "metadata": {
    "ExecuteTime": {
     "end_time": "2020-03-15T08:32:20.563290Z",
     "start_time": "2020-03-15T08:32:20.560593Z"
    }
   },
   "outputs": [],
   "source": [
    "X_features = [\"feature_1\", \"feature_2\", \"feature_3\", \"feature_4\", \"feature_5\", \"feature_6\", \"feature_7\", \"feature_8\"]\n",
    "y_feature = [\"y\"]"
   ]
  },
  {
   "cell_type": "code",
   "execution_count": 5,
   "metadata": {
    "ExecuteTime": {
     "end_time": "2020-03-15T08:32:21.140391Z",
     "start_time": "2020-03-15T08:32:21.132660Z"
    }
   },
   "outputs": [],
   "source": [
    "trn_X_pd, trn_y_pd = trn[X_features], trn[y_feature]\n",
    "val_X_pd, val_y_pd = val[X_features], val[y_feature]"
   ]
  },
  {
   "cell_type": "code",
   "execution_count": 19,
   "metadata": {
    "ExecuteTime": {
     "end_time": "2020-03-15T08:34:27.150152Z",
     "start_time": "2020-03-15T08:34:27.144450Z"
    }
   },
   "outputs": [],
   "source": [
    "trn_X = torch.from_numpy(trn_X_pd.astype(float).values)\n",
    "trn_y = torch.from_numpy(trn_y_pd.astype(float).values)\n",
    "\n",
    "val_X = torch.from_numpy(val_X_pd.astype(float).values)\n",
    "val_y = torch.from_numpy(val_y_pd.astype(float).values)"
   ]
  },
  {
   "cell_type": "code",
   "execution_count": 7,
   "metadata": {
    "ExecuteTime": {
     "end_time": "2020-03-15T08:32:21.814597Z",
     "start_time": "2020-03-15T08:32:21.812374Z"
    }
   },
   "outputs": [],
   "source": [
    "batch_size=64"
   ]
  },
  {
   "cell_type": "code",
   "execution_count": 20,
   "metadata": {
    "ExecuteTime": {
     "end_time": "2020-03-15T08:34:29.852332Z",
     "start_time": "2020-03-15T08:34:29.848521Z"
    }
   },
   "outputs": [],
   "source": [
    "trn = data_utils.TensorDataset(trn_X, trn_y)\n",
    "trn_loader = data_utils.DataLoader(trn, batch_size=batch_size, shuffle=True)\n",
    "\n",
    "val = data_utils.TensorDataset(val_X, val_y)\n",
    "val_loader = data_utils.DataLoader(val, batch_size=batch_size, shuffle=False)"
   ]
  },
  {
   "cell_type": "code",
   "execution_count": 21,
   "metadata": {
    "ExecuteTime": {
     "end_time": "2020-03-15T08:34:30.033160Z",
     "start_time": "2020-03-15T08:34:30.029691Z"
    }
   },
   "outputs": [],
   "source": [
    "tmp = next(iter(trn_loader))"
   ]
  },
  {
   "cell_type": "code",
   "execution_count": 22,
   "metadata": {
    "ExecuteTime": {
     "end_time": "2020-03-15T08:34:30.369292Z",
     "start_time": "2020-03-15T08:34:30.357785Z"
    }
   },
   "outputs": [
    {
     "data": {
      "text/plain": [
       "[tensor([[5.8083e-01, 2.3504e+00, 7.2618e-01, 1.0000e+00, 1.0000e+00, 9.8835e-01,\n",
       "          5.0000e+00, 8.0000e+00],\n",
       "         [6.8490e-01, 2.6601e+00, 7.0480e-01, 1.0000e+00, 7.8875e-01, 9.5704e-01,\n",
       "          7.0000e+00, 9.0000e+00],\n",
       "         [5.9617e-01, 2.1074e+00, 6.8805e-01, 1.0000e+01, 6.5303e-01, 9.5500e-01,\n",
       "          4.0000e+00, 2.0000e+00],\n",
       "         [4.6618e-01, 2.4170e+00, 9.9786e-01, 1.0000e+00, 6.2376e-01, 9.7757e-01,\n",
       "          6.0000e+00, 2.0000e+00],\n",
       "         [5.0665e-01, 1.7576e+00, 9.9688e-01, 1.0000e+00, 1.0000e+00, 8.4077e-01,\n",
       "          7.0000e+00, 9.0000e+00],\n",
       "         [4.9069e-01, 2.5487e+00, 2.1666e+00, 1.0000e+00, 9.9189e-01, 9.9980e-01,\n",
       "          6.0000e+00, 1.0000e+01],\n",
       "         [7.1390e-01, 2.5845e+00, 1.1495e+00, 1.0000e+00, 8.5633e-01, 9.9519e-01,\n",
       "          6.0000e+00, 8.0000e+00],\n",
       "         [6.7145e-01, 2.5900e+00, 1.6690e+00, 1.0000e+00, 1.0000e+00, 9.6371e-01,\n",
       "          6.0000e+00, 1.0000e+00],\n",
       "         [4.7936e-01, 2.1349e+00, 1.8340e-01, 1.0000e+01, 6.0059e-01, 9.6727e-01,\n",
       "          6.0000e+00, 1.2000e+01],\n",
       "         [6.9422e-01, 2.0190e+00, 1.1865e+00, 1.0000e+01, 9.0047e-01, 7.5412e-01,\n",
       "          7.0000e+00, 3.0000e+00],\n",
       "         [6.5434e-01, 2.4105e+00, 1.8607e-01, 1.0000e+01, 7.8434e-01, 7.8652e-01,\n",
       "          7.0000e+00, 1.7000e+01],\n",
       "         [6.1322e-01, 1.8914e+00, 2.1471e+00, 1.0000e+01, 9.5641e-01, 9.9756e-01,\n",
       "          4.0000e+00, 2.0000e+00],\n",
       "         [5.3491e-01, 1.9500e+00, 2.3280e+00, 1.0000e+01, 9.2731e-01, 7.6218e-01,\n",
       "          6.0000e+00, 1.1000e+01],\n",
       "         [4.9404e-01, 2.2730e+00, 1.2880e+00, 1.0000e+00, 9.1440e-01, 7.9941e-01,\n",
       "          7.0000e+00, 1.1000e+01],\n",
       "         [7.6481e-01, 2.1519e+00, 5.2053e-01, 1.0000e+00, 6.9189e-01, 9.7789e-01,\n",
       "          5.0000e+00, 4.0000e+00],\n",
       "         [1.7387e-01, 1.0715e+00, 1.3056e+00, 1.0000e+00, 9.5078e-01, 9.5962e-01,\n",
       "          5.0000e+00, 1.0000e+00],\n",
       "         [7.4908e-01, 2.2742e+00, 8.3655e-02, 1.0000e+01, 5.5100e-01, 9.9737e-01,\n",
       "          5.0000e+00, 3.0000e+00],\n",
       "         [5.3266e-01, 1.7257e+00, 4.5679e+00, 1.0000e+01, 1.0000e+00, 8.4669e-01,\n",
       "          5.0000e+00, 1.0000e+00],\n",
       "         [5.2159e-01, 2.5074e+00, 2.6114e+00, 1.0000e+00, 7.3089e-01, 9.5588e-01,\n",
       "          7.0000e+00, 1.0000e+00],\n",
       "         [3.8983e-01, 1.9615e+00, 1.8327e-02, 1.0000e+00, 6.0940e-01, 9.7037e-01,\n",
       "          6.0000e+00, 9.0000e+00],\n",
       "         [5.4257e-01, 2.8584e+00, 1.1436e+00, 1.0000e+01, 8.2703e-01, 8.7309e-01,\n",
       "          8.0000e+00, 1.5000e+01],\n",
       "         [5.5000e-01, 1.5558e+00, 1.2287e-01, 1.0000e+01, 5.3869e-01, 9.5936e-01,\n",
       "          3.0000e+00, 1.2000e+01],\n",
       "         [6.3670e-01, 2.0816e+00, 6.4883e-01, 1.0000e+00, 7.7033e-01, 8.1180e-01,\n",
       "          8.0000e+00, 5.0000e+00],\n",
       "         [5.6567e-01, 2.7780e+00, 1.3717e+00, 1.0000e+00, 9.4450e-01, 9.6558e-01,\n",
       "          6.0000e+00, 8.0000e+00],\n",
       "         [6.3295e-01, 1.7330e+00, 9.7164e-02, 1.0000e+00, 6.7353e-01, 9.6534e-01,\n",
       "          5.0000e+00, 1.3000e+01],\n",
       "         [5.1308e-01, 2.1519e+00, 1.5189e+00, 1.0000e+00, 9.2906e-01, 8.1393e-01,\n",
       "          7.0000e+00, 1.6000e+01],\n",
       "         [3.5981e-01, 1.4648e+00, 1.2028e+00, 1.0000e+00, 9.5513e-01, 6.7593e-01,\n",
       "          7.0000e+00, 1.1000e+01],\n",
       "         [6.3103e-01, 1.8882e+00, 1.8230e-01, 1.0000e+01, 7.6466e-01, 9.2701e-01,\n",
       "          6.0000e+00, 5.0000e+00],\n",
       "         [5.2467e-01, 2.3464e+00, 1.2002e+00, 1.0000e+00, 1.0000e+00, 9.8206e-01,\n",
       "          5.0000e+00, 8.0000e+00],\n",
       "         [4.5827e-01, 1.3232e+00, 1.3976e+00, 1.0000e+01, 4.4027e-01, 7.6332e-01,\n",
       "          6.0000e+00, 2.0000e+00],\n",
       "         [5.8893e-01, 2.2464e+00, 2.8408e+00, 1.0000e+01, 8.2303e-01, 9.6377e-01,\n",
       "          6.0000e+00, 2.0000e+00],\n",
       "         [7.0140e-01, 3.0751e+00, 1.0140e+00, 1.0000e+00, 1.0000e+00, 1.0000e+00,\n",
       "          6.0000e+00, 1.0000e+00],\n",
       "         [5.5109e-01, 2.0368e+00, 2.2546e+00, 1.0000e+01, 9.5670e-01, 9.1136e-01,\n",
       "          6.0000e+00, 1.0000e+00],\n",
       "         [6.0515e-01, 3.0312e+00, 5.6021e-02, 1.0000e+00, 5.8575e-01, 9.0167e-01,\n",
       "          8.0000e+00, 1.6000e+01],\n",
       "         [6.5826e-01, 2.0542e+00, 1.2918e+00, 1.0000e+01, 9.7427e-01, 9.6317e-01,\n",
       "          6.0000e+00, 3.0000e+00],\n",
       "         [5.5450e-01, 2.8933e+00, 3.1785e-01, 1.0000e+00, 5.4126e-01, 8.9462e-01,\n",
       "          8.0000e+00, 7.0000e+00],\n",
       "         [5.7654e-01, 9.6501e-01, 9.5407e-01, 1.0000e+01, 9.8278e-01, 6.1954e-01,\n",
       "          7.0000e+00, 3.0000e+00],\n",
       "         [5.8548e-01, 2.3874e+00, 0.0000e+00, 1.0000e+00, 7.1169e-01, 8.9495e-01,\n",
       "          7.0000e+00, 2.0000e+00],\n",
       "         [3.8817e-01, 1.3529e+00, 1.5127e+00, 1.0000e+00, 9.8690e-01, 8.3133e-01,\n",
       "          7.0000e+00, 6.0000e+00],\n",
       "         [6.6274e-01, 1.8707e+00, 4.1016e-02, 1.0000e+01, 6.8815e-01, 9.1305e-01,\n",
       "          5.0000e+00, 8.0000e+00],\n",
       "         [5.8948e-01, 2.1177e+00, 5.8082e-02, 1.0000e+01, 4.5796e-01, 9.9961e-01,\n",
       "          5.0000e+00, 5.0000e+00],\n",
       "         [6.1700e-01, 2.6987e+00, 1.6310e+00, 4.0000e+00, 8.3021e-01, 9.6272e-01,\n",
       "          6.0000e+00, 5.0000e+00],\n",
       "         [5.9065e-01, 1.7060e+00, 1.0409e-01, 1.0000e+01, 6.1832e-01, 8.1384e-01,\n",
       "          5.0000e+00, 1.0000e+01],\n",
       "         [5.4431e-01, 1.3458e+00, 9.5058e-01, 1.0000e+01, 1.0000e+00, 8.2057e-01,\n",
       "          3.0000e+00, 8.0000e+00],\n",
       "         [5.0553e-01, 2.3250e+00, 1.2340e+00, 2.0000e+00, 6.3008e-01, 9.6528e-01,\n",
       "          6.0000e+00, 3.0000e+00],\n",
       "         [5.7433e-01, 2.9258e+00, 1.1961e+00, 1.0000e+00, 8.7632e-01, 9.5697e-01,\n",
       "          8.0000e+00, 5.0000e+00],\n",
       "         [5.1226e-01, 2.6103e+00, 6.5030e-01, 1.0000e+00, 6.8003e-01, 9.9312e-01,\n",
       "          6.0000e+00, 2.0000e+00],\n",
       "         [5.7277e-01, 3.2785e+00, 1.0482e+00, 1.0000e+00, 8.0932e-01, 9.0043e-01,\n",
       "          9.0000e+00, 2.1000e+01],\n",
       "         [4.1876e-01, 2.5684e+00, 8.0847e-01, 3.0000e+00, 8.8807e-01, 8.7155e-01,\n",
       "          9.0000e+00, 2.1000e+01],\n",
       "         [2.0930e-01, 6.2427e-01, 5.8344e-03, 1.0000e+01, 7.1593e-01, 8.7902e-01,\n",
       "          5.0000e+00, 1.0000e+00],\n",
       "         [6.4842e-01, 2.4245e+00, 1.0071e+00, 1.0000e+01, 7.0255e-01, 9.9222e-01,\n",
       "          4.0000e+00, 1.0000e+00],\n",
       "         [4.9532e-01, 2.5596e+00, 2.8411e+00, 1.0000e+00, 8.1758e-01, 1.0000e+00,\n",
       "          6.0000e+00, 1.0000e+01],\n",
       "         [5.5252e-01, 2.5977e+00, 1.2119e+00, 2.0000e+00, 8.8340e-01, 8.6782e-01,\n",
       "          7.0000e+00, 1.0000e+01],\n",
       "         [5.8590e-01, 2.8119e+00, 9.4075e-01, 1.0000e+00, 7.1421e-01, 9.8999e-01,\n",
       "          7.0000e+00, 1.5000e+01],\n",
       "         [6.2868e-01, 2.2278e+00, 9.0017e-02, 1.0000e+00, 6.2752e-01, 9.8826e-01,\n",
       "          6.0000e+00, 1.0000e+00],\n",
       "         [6.6013e-01, 2.0515e+00, 1.7314e+00, 1.0000e+01, 8.9174e-01, 7.6785e-01,\n",
       "          7.0000e+00, 1.1000e+01],\n",
       "         [6.8025e-01, 2.1515e+00, 1.3077e+00, 7.0000e+00, 9.4149e-01, 7.5254e-01,\n",
       "          7.0000e+00, 1.8000e+01],\n",
       "         [6.3777e-01, 2.8235e+00, 1.5360e+00, 1.0000e+00, 8.9634e-01, 9.6523e-01,\n",
       "          7.0000e+00, 1.7000e+01],\n",
       "         [6.7968e-01, 1.7016e+00, 1.9264e+00, 1.0000e+01, 8.4209e-01, 9.6003e-01,\n",
       "          4.0000e+00, 2.0000e+00],\n",
       "         [5.3229e-01, 2.2402e+00, 1.3076e+00, 1.0000e+00, 9.8436e-01, 8.5355e-01,\n",
       "          7.0000e+00, 8.0000e+00],\n",
       "         [5.8020e-01, 3.2291e+00, 5.1772e-01, 1.0000e+00, 6.8024e-01, 9.6299e-01,\n",
       "          8.0000e+00, 1.2000e+01],\n",
       "         [4.6125e-01, 2.3484e+00, 0.0000e+00, 1.0000e+00, 6.3093e-01, 9.8154e-01,\n",
       "          7.0000e+00, 2.0000e+00],\n",
       "         [6.1350e-01, 1.4058e+00, 3.8186e-01, 1.0000e+01, 7.6631e-01, 7.1432e-01,\n",
       "          6.0000e+00, 1.0000e+00],\n",
       "         [5.4960e-01, 1.4363e+00, 3.8706e-01, 1.0000e+01, 9.3367e-01, 7.2803e-01,\n",
       "          5.0000e+00, 3.0000e+00]], dtype=torch.float64), tensor([[81.1564],\n",
       "         [84.4100],\n",
       "         [84.0905],\n",
       "         [89.1601],\n",
       "         [80.6688],\n",
       "         [84.1000],\n",
       "         [86.6488],\n",
       "         [77.9078],\n",
       "         [81.1666],\n",
       "         [79.7700],\n",
       "         [79.6444],\n",
       "         [81.1784],\n",
       "         [76.9791],\n",
       "         [83.1937],\n",
       "         [88.2702],\n",
       "         [83.1661],\n",
       "         [88.7547],\n",
       "         [73.8955],\n",
       "         [80.2087],\n",
       "         [85.1370],\n",
       "         [82.0000],\n",
       "         [82.3458],\n",
       "         [81.3796],\n",
       "         [88.7547],\n",
       "         [84.1543],\n",
       "         [87.3097],\n",
       "         [77.9773],\n",
       "         [74.1732],\n",
       "         [79.5376],\n",
       "         [77.3440],\n",
       "         [79.1957],\n",
       "         [82.1400],\n",
       "         [80.1900],\n",
       "         [89.2529],\n",
       "         [81.4722],\n",
       "         [89.2529],\n",
       "         [80.5459],\n",
       "         [74.1678],\n",
       "         [71.4474],\n",
       "         [82.1971],\n",
       "         [78.3500],\n",
       "         [83.1300],\n",
       "         [78.1729],\n",
       "         [81.1800],\n",
       "         [78.5000],\n",
       "         [79.5457],\n",
       "         [71.7582],\n",
       "         [87.4581],\n",
       "         [80.7759],\n",
       "         [77.8998],\n",
       "         [82.6955],\n",
       "         [86.2480],\n",
       "         [82.5329],\n",
       "         [82.4573],\n",
       "         [84.2700],\n",
       "         [78.5900],\n",
       "         [74.0890],\n",
       "         [88.5978],\n",
       "         [80.2000],\n",
       "         [83.1321],\n",
       "         [83.1101],\n",
       "         [76.0311],\n",
       "         [78.6100],\n",
       "         [86.2319]], dtype=torch.float64)]"
      ]
     },
     "execution_count": 22,
     "metadata": {},
     "output_type": "execute_result"
    }
   ],
   "source": [
    "tmp"
   ]
  },
  {
   "cell_type": "code",
   "execution_count": 23,
   "metadata": {
    "ExecuteTime": {
     "end_time": "2020-03-15T08:34:32.586349Z",
     "start_time": "2020-03-15T08:34:32.582102Z"
    }
   },
   "outputs": [],
   "source": [
    "# for dictionary batch\n",
    "class Dataset(data_utils.Dataset):\n",
    "   \n",
    "    def __init__(self, X, y):\n",
    "        self.X = X\n",
    "        self.y = y\n",
    "   \n",
    "    def __getitem__(self, idx):\n",
    "        return {'X': self.X[idx], 'y': self.y[idx]}\n",
    "   \n",
    "    def __len__(self):\n",
    "        return len(self.X)"
   ]
  },
  {
   "cell_type": "code",
   "execution_count": 24,
   "metadata": {
    "ExecuteTime": {
     "end_time": "2020-03-15T08:34:32.823228Z",
     "start_time": "2020-03-15T08:34:32.819929Z"
    }
   },
   "outputs": [],
   "source": [
    "trn = Dataset(trn_X, trn_y)\n",
    "trn_loader = data_utils.DataLoader(trn, batch_size=batch_size, shuffle=True)\n",
    "\n",
    "val = Dataset(val_X, val_y)\n",
    "val_loader = data_utils.DataLoader(val, batch_size=batch_size, shuffle=False)"
   ]
  },
  {
   "cell_type": "code",
   "execution_count": 25,
   "metadata": {
    "ExecuteTime": {
     "end_time": "2020-03-15T08:34:33.223267Z",
     "start_time": "2020-03-15T08:34:33.219784Z"
    }
   },
   "outputs": [],
   "source": [
    "tmp = next(iter(trn_loader))"
   ]
  },
  {
   "cell_type": "code",
   "execution_count": 26,
   "metadata": {
    "ExecuteTime": {
     "end_time": "2020-03-15T08:34:33.710508Z",
     "start_time": "2020-03-15T08:34:33.698495Z"
    }
   },
   "outputs": [
    {
     "data": {
      "text/plain": [
       "{'X': tensor([[6.8642e-01, 3.0662e+00, 1.0430e+00, 1.0000e+00, 7.3301e-01, 9.8043e-01,\n",
       "          7.0000e+00, 5.0000e+00],\n",
       "         [6.4069e-01, 3.3031e+00, 8.0163e-02, 9.0000e+00, 7.1114e-01, 9.6430e-01,\n",
       "          9.0000e+00, 1.2000e+01],\n",
       "         [6.1958e-01, 2.6973e+00, 1.0070e+00, 1.0000e+01, 5.4546e-01, 9.9144e-01,\n",
       "          7.0000e+00, 3.0000e+00],\n",
       "         [5.0175e-01, 1.5722e+00, 1.2750e+00, 1.0000e+00, 6.7294e-01, 6.9731e-01,\n",
       "          7.0000e+00, 1.3000e+01],\n",
       "         [5.6134e-01, 1.6326e+00, 3.3743e+00, 1.0000e+01, 9.8828e-01, 7.1937e-01,\n",
       "          6.0000e+00, 1.1000e+01],\n",
       "         [3.9965e-01, 1.5086e+00, 5.6467e-01, 1.0000e+01, 6.1882e-01, 7.5318e-01,\n",
       "          7.0000e+00, 1.0000e+00],\n",
       "         [4.9889e-01, 2.1329e+00, 4.6555e-01, 1.0000e+01, 7.2297e-01, 7.6876e-01,\n",
       "          7.0000e+00, 1.2000e+01],\n",
       "         [4.9348e-01, 2.5340e+00, 7.9817e-01, 7.0000e+00, 9.9741e-01, 9.5803e-01,\n",
       "          7.0000e+00, 3.0000e+00],\n",
       "         [5.6068e-01, 2.7336e+00, 1.1058e+00, 1.0000e+00, 6.6741e-01, 9.7421e-01,\n",
       "          6.0000e+00, 2.0000e+00],\n",
       "         [6.8664e-01, 3.1593e+00, 6.7231e-01, 1.0000e+00, 8.1791e-01, 9.9979e-01,\n",
       "          7.0000e+00, 7.0000e+00],\n",
       "         [3.9328e-01, 1.9788e+00, 1.1576e+00, 1.0000e+00, 9.3969e-01, 9.5979e-01,\n",
       "          6.0000e+00, 1.0000e+00],\n",
       "         [6.9814e-01, 2.6854e+00, 2.9404e-01, 1.0000e+01, 6.4895e-01, 1.0000e+00,\n",
       "          5.0000e+00, 4.0000e+00],\n",
       "         [4.3430e-01, 1.8448e+00, 1.8355e-02, 1.0000e+01, 6.1963e-01, 7.7998e-01,\n",
       "          7.0000e+00, 1.5000e+01],\n",
       "         [5.9991e-01, 2.1737e+00, 8.4708e-01, 1.0000e+00, 8.7779e-01, 8.4858e-01,\n",
       "          6.0000e+00, 1.7000e+01],\n",
       "         [4.4356e-01, 1.3238e+00, 7.0156e-01, 1.0000e+01, 5.9544e-01, 7.8175e-01,\n",
       "          4.0000e+00, 3.0000e+00],\n",
       "         [5.6070e-01, 2.2511e+00, 9.2327e-01, 1.0000e+00, 8.0837e-01, 8.5665e-01,\n",
       "          7.0000e+00, 1.4000e+01],\n",
       "         [5.7849e-01, 1.6029e+00, 1.7907e+00, 7.0000e+00, 9.2099e-01, 6.7282e-01,\n",
       "          7.0000e+00, 1.6000e+01],\n",
       "         [4.6559e-01, 3.0100e+00, 8.0727e-01, 1.0000e+00, 6.4756e-01, 1.0000e+00,\n",
       "          7.0000e+00, 1.2000e+01],\n",
       "         [7.3499e-01, 2.2644e+00, 1.8066e+00, 1.0000e+00, 9.5080e-01, 8.9771e-01,\n",
       "          6.0000e+00, 1.0000e+00],\n",
       "         [6.3248e-01, 3.2314e+00, 9.7484e-03, 1.0000e+00, 6.0323e-01, 8.9470e-01,\n",
       "          1.0000e+01, 1.1000e+01],\n",
       "         [6.4673e-01, 2.6737e+00, 1.0133e-02, 1.0000e+01, 5.7965e-01, 9.1145e-01,\n",
       "          7.0000e+00, 1.6000e+01],\n",
       "         [5.6597e-01, 2.7407e+00, 8.9787e-01, 1.0000e+00, 8.6448e-01, 9.6669e-01,\n",
       "          8.0000e+00, 1.2000e+01],\n",
       "         [5.8877e-01, 1.9434e+00, 2.4360e-01, 1.0000e+01, 5.9813e-01, 9.6676e-01,\n",
       "          5.0000e+00, 4.0000e+00],\n",
       "         [5.0490e-01, 2.5791e+00, 1.0665e+00, 1.0000e+01, 8.7686e-01, 9.5105e-01,\n",
       "          7.0000e+00, 1.4000e+01],\n",
       "         [5.2736e-01, 1.4089e+00, 4.9686e-01, 1.0000e+00, 6.9005e-01, 7.3738e-01,\n",
       "          7.0000e+00, 1.1000e+01],\n",
       "         [6.1017e-01, 2.3279e+00, 5.6309e-01, 1.0000e+01, 1.0000e+00, 9.5165e-01,\n",
       "          6.0000e+00, 1.0000e+00],\n",
       "         [5.2097e-01, 2.5022e+00, 1.2543e-02, 1.0000e+01, 6.5364e-01, 9.8130e-01,\n",
       "          6.0000e+00, 7.0000e+00],\n",
       "         [4.8532e-01, 2.3855e+00, 1.2214e+00, 1.0000e+00, 8.5681e-01, 9.4972e-01,\n",
       "          7.0000e+00, 1.3000e+01],\n",
       "         [6.0319e-01, 2.6227e+00, 9.5187e-01, 1.0000e+00, 1.0000e+00, 9.9838e-01,\n",
       "          7.0000e+00, 9.0000e+00],\n",
       "         [6.6506e-01, 3.4450e+00, 1.1966e+00, 1.0000e+00, 6.9277e-01, 9.0120e-01,\n",
       "          9.0000e+00, 2.1000e+01],\n",
       "         [6.9856e-01, 3.4765e+00, 1.1275e+00, 1.0000e+00, 9.1145e-01, 9.9653e-01,\n",
       "          7.0000e+00, 1.0000e+00],\n",
       "         [6.2475e-01, 3.4704e+00, 9.9335e-01, 1.0000e+00, 8.8233e-01, 9.8920e-01,\n",
       "          7.0000e+00, 1.3000e+01],\n",
       "         [4.3487e-01, 2.7007e+00, 1.1470e+00, 1.0000e+00, 9.6607e-01, 9.5539e-01,\n",
       "          7.0000e+00, 1.0000e+01],\n",
       "         [6.2387e-01, 1.8758e+00, 3.3498e-01, 1.0000e+01, 6.5946e-01, 7.2967e-01,\n",
       "          7.0000e+00, 1.3000e+01],\n",
       "         [6.0511e-01, 1.4761e+00, 3.4509e+00, 1.0000e+01, 9.8105e-01, 7.4718e-01,\n",
       "          6.0000e+00, 1.0000e+00],\n",
       "         [6.9797e-01, 2.2249e+00, 6.1652e-01, 1.0000e+00, 6.0577e-01, 9.0423e-01,\n",
       "          6.0000e+00, 6.0000e+00],\n",
       "         [5.2244e-01, 1.7817e+00, 4.9571e-02, 1.0000e+01, 1.0000e+00, 1.0000e+00,\n",
       "          4.0000e+00, 2.0000e+00],\n",
       "         [6.3342e-01, 3.2925e+00, 7.2138e-01, 1.0000e+00, 8.9349e-01, 9.6248e-01,\n",
       "          8.0000e+00, 1.6000e+01],\n",
       "         [5.2985e-01, 2.4009e+00, 1.4964e+00, 1.0000e+00, 7.7015e-01, 9.7767e-01,\n",
       "          5.0000e+00, 5.0000e+00],\n",
       "         [5.0448e-01, 2.7041e+00, 2.5717e-01, 1.0000e+00, 5.0690e-01, 1.0000e+00,\n",
       "          7.0000e+00, 1.3000e+01],\n",
       "         [8.1887e-01, 2.0664e+00, 2.8674e-01, 1.0000e+00, 7.2687e-01, 8.9451e-01,\n",
       "          5.0000e+00, 5.0000e+00],\n",
       "         [5.9259e-01, 2.8561e+00, 7.8048e-01, 1.0000e+00, 7.9606e-01, 1.0000e+00,\n",
       "          8.0000e+00, 4.0000e+00],\n",
       "         [4.2435e-01, 1.9302e+00, 5.6034e-01, 1.0000e+00, 7.0610e-01, 9.8949e-01,\n",
       "          5.0000e+00, 1.0000e+00],\n",
       "         [4.8559e-01, 1.7265e+00, 4.4234e+00, 1.0000e+01, 9.9372e-01, 7.4595e-01,\n",
       "          5.0000e+00, 6.0000e+00],\n",
       "         [6.2542e-01, 8.8630e-01, 6.1246e-01, 2.0000e+00, 7.7694e-01, 6.2570e-01,\n",
       "          6.0000e+00, 5.0000e+00],\n",
       "         [4.5494e-01, 1.7327e+00, 1.8310e+00, 1.0000e+01, 9.5780e-01, 9.0821e-01,\n",
       "          4.0000e+00, 1.0000e+00],\n",
       "         [5.7861e-01, 2.4130e+00, 1.1891e+00, 1.0000e+00, 7.1704e-01, 9.5076e-01,\n",
       "          6.0000e+00, 5.0000e+00],\n",
       "         [4.7249e-01, 2.4034e+00, 5.6079e-01, 5.0000e+00, 6.2290e-01, 9.6755e-01,\n",
       "          7.0000e+00, 2.0000e+00],\n",
       "         [4.8085e-01, 1.5492e+00, 1.3715e+00, 1.0000e+00, 1.0000e+00, 7.6411e-01,\n",
       "          7.0000e+00, 1.2000e+01],\n",
       "         [7.1390e-01, 3.9390e+00, 1.3013e+00, 1.0000e+00, 9.6328e-01, 9.9635e-01,\n",
       "          9.0000e+00, 1.7000e+01],\n",
       "         [4.8488e-01, 1.5106e+00, 4.5087e-01, 1.0000e+00, 7.5158e-01, 7.5484e-01,\n",
       "          7.0000e+00, 1.2000e+01],\n",
       "         [4.6226e-01, 2.3009e+00, 0.0000e+00, 1.0000e+00, 0.0000e+00, 9.6483e-01,\n",
       "          6.0000e+00, 1.0000e+00],\n",
       "         [6.9186e-01, 2.0232e+00, 8.6420e-01, 1.0000e+01, 6.4953e-01, 7.2438e-01,\n",
       "          7.0000e+00, 1.8000e+01],\n",
       "         [3.3702e-01, 1.0882e+00, 9.1506e-02, 1.0000e+01, 5.3977e-01, 7.7750e-01,\n",
       "          4.0000e+00, 6.0000e+00],\n",
       "         [5.8638e-01, 2.6035e+00, 9.1341e-01, 1.0000e+00, 4.9635e-01, 9.6703e-01,\n",
       "          8.0000e+00, 1.4000e+01],\n",
       "         [5.3799e-01, 3.0242e+00, 6.3566e-01, 1.0000e+00, 8.1984e-01, 9.7777e-01,\n",
       "          8.0000e+00, 1.3000e+01],\n",
       "         [5.7842e-01, 2.1993e+00, 1.0324e+00, 1.0000e+01, 9.8509e-01, 9.4975e-01,\n",
       "          6.0000e+00, 8.0000e+00],\n",
       "         [6.0391e-01, 2.8563e+00, 3.2455e-02, 3.0000e+00, 5.0859e-01, 9.6858e-01,\n",
       "          7.0000e+00, 9.0000e+00],\n",
       "         [7.1624e-01, 2.7303e+00, 8.9233e-03, 1.0000e+01, 6.1531e-01, 9.5453e-01,\n",
       "          6.0000e+00, 1.3000e+01],\n",
       "         [6.5378e-01, 1.0646e+00, 1.0766e+00, 3.0000e+00, 9.4590e-01, 5.9713e-01,\n",
       "          7.0000e+00, 2.0000e+00],\n",
       "         [4.2918e-01, 2.6191e+00, 1.0141e+00, 2.0000e+00, 7.5628e-01, 9.6297e-01,\n",
       "          7.0000e+00, 1.0000e+01],\n",
       "         [5.5990e-01, 2.6260e+00, 9.5748e-01, 1.0000e+01, 5.9909e-01, 9.1967e-01,\n",
       "          7.0000e+00, 7.0000e+00],\n",
       "         [6.4338e-01, 2.6092e+00, 1.3254e+00, 1.0000e+00, 9.3005e-01, 8.8520e-01,\n",
       "          8.0000e+00, 1.9000e+01],\n",
       "         [6.7000e-01, 2.9012e+00, 1.0437e+00, 1.0000e+00, 7.6431e-01, 9.6411e-01,\n",
       "          7.0000e+00, 1.4000e+01]], dtype=torch.float64),\n",
       " 'y': tensor([[91.7607],\n",
       "         [77.2609],\n",
       "         [85.0600],\n",
       "         [82.9805],\n",
       "         [74.7000],\n",
       "         [79.2039],\n",
       "         [74.6998],\n",
       "         [81.1529],\n",
       "         [85.0600],\n",
       "         [79.2200],\n",
       "         [77.0925],\n",
       "         [81.1800],\n",
       "         [76.9305],\n",
       "         [84.5184],\n",
       "         [78.4148],\n",
       "         [85.5929],\n",
       "         [87.8498],\n",
       "         [89.4800],\n",
       "         [87.8400],\n",
       "         [89.0960],\n",
       "         [81.3300],\n",
       "         [78.2434],\n",
       "         [81.1562],\n",
       "         [82.1274],\n",
       "         [80.9007],\n",
       "         [71.5931],\n",
       "         [80.8500],\n",
       "         [84.7338],\n",
       "         [80.5284],\n",
       "         [89.2529],\n",
       "         [78.9100],\n",
       "         [84.2712],\n",
       "         [83.1101],\n",
       "         [74.6941],\n",
       "         [81.5877],\n",
       "         [84.7256],\n",
       "         [77.1068],\n",
       "         [73.5123],\n",
       "         [86.8058],\n",
       "         [79.7191],\n",
       "         [82.7719],\n",
       "         [83.1100],\n",
       "         [77.5613],\n",
       "         [75.6800],\n",
       "         [81.5204],\n",
       "         [70.6198],\n",
       "         [80.5284],\n",
       "         [71.5696],\n",
       "         [70.8400],\n",
       "         [80.2064],\n",
       "         [85.0166],\n",
       "         [80.8561],\n",
       "         [78.6242],\n",
       "         [72.6605],\n",
       "         [85.3250],\n",
       "         [89.4794],\n",
       "         [77.4425],\n",
       "         [32.3709],\n",
       "         [84.4100],\n",
       "         [83.4693],\n",
       "         [77.4500],\n",
       "         [81.1500],\n",
       "         [87.8415],\n",
       "         [79.1470]], dtype=torch.float64)}"
      ]
     },
     "execution_count": 26,
     "metadata": {},
     "output_type": "execute_result"
    }
   ],
   "source": [
    "tmp"
   ]
  },
  {
   "cell_type": "code",
   "execution_count": 32,
   "metadata": {},
   "outputs": [],
   "source": [
    "num_batches = len(trn_loader)"
   ]
  },
  {
   "cell_type": "markdown",
   "metadata": {},
   "source": [
    "## Build Model"
   ]
  },
  {
   "cell_type": "code",
   "execution_count": 33,
   "metadata": {},
   "outputs": [],
   "source": [
    "use_cuda = torch.cuda.is_available()"
   ]
  },
  {
   "cell_type": "code",
   "execution_count": 34,
   "metadata": {},
   "outputs": [],
   "source": [
    "class MLPRegressor(nn.Module):\n",
    "    \n",
    "    def __init__(self):\n",
    "        super(MLPRegressor, self).__init__()\n",
    "        h1 = nn.Linear(len(X_features), 50)\n",
    "        h2 = nn.Linear(50, 35)\n",
    "        h3 = nn.Linear(35, 1)\n",
    "        self.hidden = nn.Sequential(\n",
    "            h1,\n",
    "            nn.Tanh(),\n",
    "            h2,\n",
    "            nn.Tanh(),\n",
    "            h3,\n",
    "        )\n",
    "        if use_cuda:\n",
    "            self.hidden = self.hidden.cuda()\n",
    "        \n",
    "    def forward(self, x):\n",
    "        o = self.hidden(x)\n",
    "        return o.view(-1)"
   ]
  },
  {
   "cell_type": "markdown",
   "metadata": {},
   "source": [
    "## Train model"
   ]
  },
  {
   "cell_type": "code",
   "execution_count": 35,
   "metadata": {},
   "outputs": [],
   "source": [
    "model = MLPRegressor()"
   ]
  },
  {
   "cell_type": "code",
   "execution_count": 36,
   "metadata": {},
   "outputs": [],
   "source": [
    "criterion = nn.MSELoss()\n",
    "learning_rate = 1e-3\n",
    "optimizer = optim.Adam(model.parameters(), lr=learning_rate)"
   ]
  },
  {
   "cell_type": "code",
   "execution_count": 37,
   "metadata": {},
   "outputs": [],
   "source": [
    "num_epochs = 10\n",
    "num_batches = len(trn_loader)"
   ]
  },
  {
   "cell_type": "code",
   "execution_count": 38,
   "metadata": {},
   "outputs": [
    {
     "data": {
      "text/plain": [
       "35"
      ]
     },
     "execution_count": 38,
     "metadata": {},
     "output_type": "execute_result"
    }
   ],
   "source": [
    "num_batches"
   ]
  },
  {
   "cell_type": "code",
   "execution_count": 39,
   "metadata": {},
   "outputs": [
    {
     "name": "stdout",
     "output_type": "stream",
     "text": [
      "epoch: 1/10 | step: 15/35 | trn_loss: 80.4772 | val_loss: 79.9006\n",
      "epoch: 1/10 | step: 30/35 | trn_loss: 79.5698 | val_loss: 78.7983\n",
      "epoch: 2/10 | step: 15/35 | trn_loss: 77.8362 | val_loss: 76.9738\n",
      "epoch: 2/10 | step: 30/35 | trn_loss: 76.5909 | val_loss: 75.7759\n",
      "epoch: 3/10 | step: 15/35 | trn_loss: 75.1105 | val_loss: 74.2213\n",
      "epoch: 3/10 | step: 30/35 | trn_loss: 73.8596 | val_loss: 73.4308\n",
      "epoch: 4/10 | step: 15/35 | trn_loss: 72.9306 | val_loss: 72.4381\n",
      "epoch: 4/10 | step: 30/35 | trn_loss: 72.2745 | val_loss: 71.6900\n",
      "epoch: 5/10 | step: 15/35 | trn_loss: 71.4342 | val_loss: 70.8200\n",
      "epoch: 5/10 | step: 30/35 | trn_loss: 70.6700 | val_loss: 70.2096\n",
      "epoch: 6/10 | step: 15/35 | trn_loss: 69.7620 | val_loss: 69.4448\n",
      "epoch: 6/10 | step: 30/35 | trn_loss: 69.3763 | val_loss: 68.8077\n",
      "epoch: 7/10 | step: 15/35 | trn_loss: 68.6557 | val_loss: 68.0679\n",
      "epoch: 7/10 | step: 30/35 | trn_loss: 67.7106 | val_loss: 67.4442\n",
      "epoch: 8/10 | step: 15/35 | trn_loss: 66.9765 | val_loss: 66.6800\n",
      "epoch: 8/10 | step: 30/35 | trn_loss: 66.6197 | val_loss: 66.0855\n",
      "epoch: 9/10 | step: 15/35 | trn_loss: 65.7067 | val_loss: 65.3690\n",
      "epoch: 9/10 | step: 30/35 | trn_loss: 65.2980 | val_loss: 64.8316\n",
      "epoch: 10/10 | step: 15/35 | trn_loss: 64.4303 | val_loss: 64.1169\n",
      "epoch: 10/10 | step: 30/35 | trn_loss: 64.0514 | val_loss: 63.5649\n",
      "finish Training\n"
     ]
    }
   ],
   "source": [
    "trn_loss_list = []\n",
    "val_loss_list = []\n",
    "\n",
    "for epoch in range(num_epochs):\n",
    "    trn_loss_summary = 0.0\n",
    "    for i, trn in enumerate(trn_loader):\n",
    "        trn_X, trn_y = trn['X'], trn['y']\n",
    "        if use_cuda:\n",
    "            trn_X, trn_y = trn_X.cuda(), trn_y.cuda()\n",
    "        optimizer.zero_grad()\n",
    "        trn_pred = model(trn_X)\n",
    "        trn_loss = criterion(trn_pred, trn_y)\n",
    "        trn_loss.backward()\n",
    "        optimizer.step()\n",
    "        \n",
    "        trn_loss_summary += trn_loss\n",
    "        \n",
    "        if (i+1) % 15 == 0:\n",
    "            with torch.no_grad():\n",
    "                val_loss_summary = 0.0\n",
    "                for j, val in enumerate(val_loader):\n",
    "                    val_X, val_y = val['X'], val['y']\n",
    "                    if use_cuda:\n",
    "                        val_X, val_y = val_X.cuda(), val_y.cuda()\n",
    "                    val_pred = model(val_X)\n",
    "                    val_loss = criterion(val_pred, val_y)\n",
    "                    val_loss_summary += val_loss\n",
    "                \n",
    "            print(\"epoch: {}/{} | step: {}/{} | trn_loss: {:.4f} | val_loss: {:.4f}\".format(\n",
    "                epoch + 1, num_epochs, i+1, num_batches, (trn_loss_summary/15)**(1/2), (val_loss_summary/len(val_loader))**(1/2)\n",
    "            ))\n",
    "                \n",
    "            trn_loss_list.append((trn_loss_summary/15)**(1/2))\n",
    "            val_loss_list.append((val_loss_summary/len(val_loader))**(1/2))\n",
    "            trn_loss_summary = 0.0\n",
    "        \n",
    "print(\"finish Training\")"
   ]
  },
  {
   "cell_type": "markdown",
   "metadata": {},
   "source": [
    "### Visualize"
   ]
  },
  {
   "cell_type": "code",
   "execution_count": 40,
   "metadata": {},
   "outputs": [
    {
     "data": {
      "text/plain": [
       "Text(0,0.5,'loss')"
      ]
     },
     "execution_count": 40,
     "metadata": {},
     "output_type": "execute_result"
    },
    {
     "data": {
      "image/png": "[encoded data removed]",
      "text/plain": [
       "<Figure size 1152x648 with 1 Axes>"
      ]
     },
     "metadata": {},
     "output_type": "display_data"
    }
   ],
   "source": [
    "plt.figure(figsize=(16,9))\n",
    "x_range = range(len(trn_loss_list))\n",
    "plt.plot(x_range, trn_loss_list, label=\"trn\")\n",
    "plt.plot(x_range, val_loss_list, label=\"val\")\n",
    "plt.legend()\n",
    "plt.xlabel(\"training steps\")\n",
    "plt.ylabel(\"loss\")"
   ]
  },
  {
   "cell_type": "code",
   "execution_count": null,
   "metadata": {},
   "outputs": [],
   "source": []
  }
 ],
 "metadata": {
  "kernelspec": {
   "display_name": "Python 3",
   "language": "python",
   "name": "python3"
  },
  "language_info": {
   "codemirror_mode": {
    "name": "ipython",
    "version": 3
   },
   "file_extension": ".py",
   "mimetype": "text/x-python",
   "name": "python",
   "nbconvert_exporter": "python",
   "pygments_lexer": "ipython3",
   "version": "3.6.9"
  },
  "toc": {
   "base_numbering": 1,
   "nav_menu": {},
   "number_sections": true,
   "sideBar": true,
   "skip_h1_title": false,
   "title_cell": "Table of Contents",
   "title_sidebar": "Contents",
   "toc_cell": false,
   "toc_position": {},
   "toc_section_display": true,
   "toc_window_display": false
  }
 },
 "nbformat": 4,
 "nbformat_minor": 2
}
